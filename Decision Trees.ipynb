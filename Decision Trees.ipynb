{
 "cells": [
  {
   "cell_type": "code",
   "execution_count": 57,
   "id": "7b622a18",
   "metadata": {},
   "outputs": [],
   "source": [
    "from sklearn.datasets import load_breast_cancer\n",
    "from sklearn.model_selection import train_test_split\n",
    "from sklearn.tree import DecisionTreeClassifier\n",
    "from sklearn.ensemble import RandomForestClassifier\n",
    "from sklearn import tree\n",
    "import graphviz\n",
    "from sklearn.ensemble import GradientBoostingClassifier\n",
    "from xgboost import XGBClassifier"
   ]
  },
  {
   "cell_type": "code",
   "execution_count": 2,
   "id": "54a4d75e",
   "metadata": {},
   "outputs": [
    {
     "name": "stdout",
     "output_type": "stream",
     "text": [
      "labels: ['malignant' 'benign']\n",
      "features: ['mean radius' 'mean texture' 'mean perimeter' 'mean area'\n",
      " 'mean smoothness' 'mean compactness' 'mean concavity'\n",
      " 'mean concave points' 'mean symmetry' 'mean fractal dimension'\n",
      " 'radius error' 'texture error' 'perimeter error' 'area error'\n",
      " 'smoothness error' 'compactness error' 'concavity error'\n",
      " 'concave points error' 'symmetry error' 'fractal dimension error'\n",
      " 'worst radius' 'worst texture' 'worst perimeter' 'worst area'\n",
      " 'worst smoothness' 'worst compactness' 'worst concavity'\n",
      " 'worst concave points' 'worst symmetry' 'worst fractal dimension']\n"
     ]
    }
   ],
   "source": [
    "cancer = load_breast_cancer()\n",
    "X, y, labels, features = cancer.data, cancer.target, cancer.target_names, cancer.feature_names\n",
    "print ('labels:',labels)\n",
    "print ('features:', features)\n",
    "\n",
    "X_train, X_test, y_train, y_test = train_test_split(X, y, random_state = 0)"
   ]
  },
  {
   "cell_type": "code",
   "execution_count": 15,
   "id": "9b8b7c4b",
   "metadata": {},
   "outputs": [
    {
     "name": "stdout",
     "output_type": "stream",
     "text": [
      "train accuracy= 97.653%\n",
      "test accuracy= 95.105%\n"
     ]
    },
    {
     "data": {
      "text/plain": [
       "'Source.gv.pdf'"
      ]
     },
     "execution_count": 15,
     "metadata": {},
     "output_type": "execute_result"
    }
   ],
   "source": [
    "#Descision Tree\n",
    "clf = DecisionTreeClassifier(\n",
    "    criterion=  'entropy',\n",
    "    random_state=0,        \n",
    "    max_depth=3\n",
    ").fit(X_train, y_train)\n",
    "print(\"train accuracy= {:.3%}\".format(clf.score (X_train, y_train)))\n",
    "print(\"test accuracy= {:.3%}\".format(clf.score (X_test, y_test)))\n",
    "graph_viz = tree.export_graphviz(clf, out_file=None,feature_names=features, class_names=labels, filled = True)\n",
    "graph = graphviz.Source(graph_viz)\n",
    "graph.view(cleanup =True) # cleanup (bool) – Delete the source file after rendering."
   ]
  },
  {
   "cell_type": "code",
   "execution_count": 29,
   "id": "70637908",
   "metadata": {},
   "outputs": [
    {
     "name": "stdout",
     "output_type": "stream",
     "text": [
      "train accuracy= 99.061%\n",
      "test accuracy= 97.203%\n"
     ]
    }
   ],
   "source": [
    "#Random Forrests\n",
    "clf = RandomForestClassifier(max_depth=4).fit (X_train, y_train)\n",
    "print(\"train accuracy= {:.3%}\".format(clf.score (X_train, y_train)))\n",
    "print(\"test accuracy= {:.3%}\".format(clf.score (X_test, y_test)))"
   ]
  },
  {
   "cell_type": "code",
   "execution_count": 66,
   "id": "f542de24",
   "metadata": {},
   "outputs": [
    {
     "name": "stdout",
     "output_type": "stream",
     "text": [
      "train accuracy= 97.418%\n",
      "test accuracy= 96.503%\n"
     ]
    }
   ],
   "source": [
    "#Gradient Boosting Decision Trees\n",
    "clf = GradientBoostingClassifier(learning_rate=0.01,max_depth=2).fit(X_train, y_train)\n",
    "print(\"train accuracy= {:.3%}\".format(clf.score (X_train, y_train)))\n",
    "print(\"test accuracy= {:.3%}\".format(clf.score (X_test, y_test)))"
   ]
  },
  {
   "cell_type": "code",
   "execution_count": 65,
   "id": "5005d50f",
   "metadata": {},
   "outputs": [
    {
     "name": "stdout",
     "output_type": "stream",
     "text": [
      "train accuracy= 100.000%\n",
      "test accuracy= 98.601%\n"
     ]
    }
   ],
   "source": [
    "#XGBoost\n",
    "clf = XGBClassifier().fit(X_train, y_train)\n",
    "print(\"train accuracy= {:.3%}\".format(clf.score (X_train, y_train)))\n",
    "print(\"test accuracy= {:.3%}\".format(clf.score (X_test, y_test)))"
   ]
  }
 ],
 "metadata": {
  "kernelspec": {
   "display_name": "Python 3 (ipykernel)",
   "language": "python",
   "name": "python3"
  },
  "language_info": {
   "codemirror_mode": {
    "name": "ipython",
    "version": 3
   },
   "file_extension": ".py",
   "mimetype": "text/x-python",
   "name": "python",
   "nbconvert_exporter": "python",
   "pygments_lexer": "ipython3",
   "version": "3.9.13"
  }
 },
 "nbformat": 4,
 "nbformat_minor": 5
}
